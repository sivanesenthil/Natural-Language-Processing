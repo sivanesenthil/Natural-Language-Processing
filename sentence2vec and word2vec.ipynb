{
 "cells": [
  {
   "cell_type": "code",
   "execution_count": 1,
   "id": "235baada",
   "metadata": {},
   "outputs": [
    {
     "name": "stderr",
     "output_type": "stream",
     "text": [
      "[nltk_data] Downloading package punkt to\n",
      "[nltk_data]     C:\\Users\\SHYNI\\AppData\\Roaming\\nltk_data...\n",
      "[nltk_data]   Package punkt is already up-to-date!\n"
     ]
    }
   ],
   "source": [
    "import nltk\n",
    "nltk.download('punkt')\n",
    "from nltk.tokenize import word_tokenize\n",
    "import numpy as np"
   ]
  },
  {
   "cell_type": "code",
   "execution_count": 13,
   "id": "729611fc",
   "metadata": {},
   "outputs": [],
   "source": [
    "sentences =[\n",
    "    \"I ate dinner\",\n",
    "    \"We had three-course meal\",\n",
    "    \"He loves fish tacos\",\n",
    "    'In the end,we all felt like we ate too much',\n",
    "    \"We all agreed,it was a maginificient evening\"]"
   ]
  },
  {
   "cell_type": "code",
   "execution_count": 14,
   "id": "2ad86a9f",
   "metadata": {},
   "outputs": [
    {
     "name": "stdout",
     "output_type": "stream",
     "text": [
      "[['i', 'ate', 'dinner'], ['we', 'had', 'three-course', 'meal'], ['he', 'loves', 'fish', 'tacos'], ['in', 'the', 'end', ',', 'we', 'all', 'felt', 'like', 'we', 'ate', 'too', 'much'], ['we', 'all', 'agreed', ',', 'it', 'was', 'a', 'maginificient', 'evening']]\n"
     ]
    }
   ],
   "source": [
    "tokenized_sent = []\n",
    "for s in sentence:\n",
    "    tokenized_sent.append(word_tokenize(s.lower()))\n",
    "print(tokenized_sent)"
   ]
  },
  {
   "cell_type": "code",
   "execution_count": 28,
   "id": "77940daf",
   "metadata": {},
   "outputs": [],
   "source": [
    "def cosine(u,v):\n",
    "    return np.dpt(u,v)/(np.linalg.norm(u)* np.linalg.norm(v))"
   ]
  },
  {
   "cell_type": "code",
   "execution_count": 16,
   "id": "6ea37ae4",
   "metadata": {},
   "outputs": [
    {
     "name": "stdout",
     "output_type": "stream",
     "text": [
      "Requirement already satisfied: sentence-transformers in c:\\anaconda\\lib\\site-packages (3.0.1)\n",
      "Requirement already satisfied: torch>=1.11.0 in c:\\anaconda\\lib\\site-packages (from sentence-transformers) (2.0.1)\n",
      "Requirement already satisfied: tqdm in c:\\anaconda\\lib\\site-packages (from sentence-transformers) (4.64.1)\n",
      "Requirement already satisfied: Pillow in c:\\anaconda\\lib\\site-packages (from sentence-transformers) (9.2.0)\n",
      "Requirement already satisfied: scipy in c:\\anaconda\\lib\\site-packages (from sentence-transformers) (1.9.1)\n",
      "Requirement already satisfied: scikit-learn in c:\\anaconda\\lib\\site-packages (from sentence-transformers) (1.0.2)\n",
      "Requirement already satisfied: transformers<5.0.0,>=4.34.0 in c:\\anaconda\\lib\\site-packages (from sentence-transformers) (4.41.2)\n",
      "Requirement already satisfied: numpy in c:\\anaconda\\lib\\site-packages (from sentence-transformers) (1.24.4)\n",
      "Requirement already satisfied: huggingface-hub>=0.15.1 in c:\\anaconda\\lib\\site-packages (from sentence-transformers) (0.23.3)\n",
      "Requirement already satisfied: pyyaml>=5.1 in c:\\anaconda\\lib\\site-packages (from huggingface-hub>=0.15.1->sentence-transformers) (6.0)\n",
      "Requirement already satisfied: requests in c:\\anaconda\\lib\\site-packages (from huggingface-hub>=0.15.1->sentence-transformers) (2.28.1)\n",
      "Requirement already satisfied: fsspec>=2023.5.0 in c:\\anaconda\\lib\\site-packages (from huggingface-hub>=0.15.1->sentence-transformers) (2024.6.0)\n",
      "Requirement already satisfied: filelock in c:\\anaconda\\lib\\site-packages (from huggingface-hub>=0.15.1->sentence-transformers) (3.6.0)\n",
      "Requirement already satisfied: packaging>=20.9 in c:\\anaconda\\lib\\site-packages (from huggingface-hub>=0.15.1->sentence-transformers) (21.3)\n",
      "Requirement already satisfied: typing-extensions>=3.7.4.3 in c:\\anaconda\\lib\\site-packages (from huggingface-hub>=0.15.1->sentence-transformers) (4.3.0)\n",
      "Requirement already satisfied: sympy in c:\\anaconda\\lib\\site-packages (from torch>=1.11.0->sentence-transformers) (1.10.1)\n",
      "Requirement already satisfied: networkx in c:\\anaconda\\lib\\site-packages (from torch>=1.11.0->sentence-transformers) (2.8.4)\n",
      "Requirement already satisfied: jinja2 in c:\\anaconda\\lib\\site-packages (from torch>=1.11.0->sentence-transformers) (2.11.3)\n",
      "Requirement already satisfied: colorama in c:\\anaconda\\lib\\site-packages (from tqdm->sentence-transformers) (0.4.5)\n",
      "Requirement already satisfied: safetensors>=0.4.1 in c:\\anaconda\\lib\\site-packages (from transformers<5.0.0,>=4.34.0->sentence-transformers) (0.4.3)\n",
      "Requirement already satisfied: regex!=2019.12.17 in c:\\anaconda\\lib\\site-packages (from transformers<5.0.0,>=4.34.0->sentence-transformers) (2022.7.9)\n",
      "Requirement already satisfied: tokenizers<0.20,>=0.19 in c:\\anaconda\\lib\\site-packages (from transformers<5.0.0,>=4.34.0->sentence-transformers) (0.19.1)\n",
      "Requirement already satisfied: threadpoolctl>=2.0.0 in c:\\anaconda\\lib\\site-packages (from scikit-learn->sentence-transformers) (2.2.0)\n",
      "Requirement already satisfied: joblib>=0.11 in c:\\anaconda\\lib\\site-packages (from scikit-learn->sentence-transformers) (1.1.0)\n",
      "Requirement already satisfied: pyparsing!=3.0.5,>=2.0.2 in c:\\anaconda\\lib\\site-packages (from packaging>=20.9->huggingface-hub>=0.15.1->sentence-transformers) (3.0.9)\n",
      "Requirement already satisfied: MarkupSafe>=0.23 in c:\\anaconda\\lib\\site-packages (from jinja2->torch>=1.11.0->sentence-transformers) (2.0.1)\n",
      "Requirement already satisfied: idna<4,>=2.5 in c:\\anaconda\\lib\\site-packages (from requests->huggingface-hub>=0.15.1->sentence-transformers) (3.3)\n",
      "Requirement already satisfied: certifi>=2017.4.17 in c:\\anaconda\\lib\\site-packages (from requests->huggingface-hub>=0.15.1->sentence-transformers) (2022.9.14)\n",
      "Requirement already satisfied: urllib3<1.27,>=1.21.1 in c:\\anaconda\\lib\\site-packages (from requests->huggingface-hub>=0.15.1->sentence-transformers) (1.26.11)\n",
      "Requirement already satisfied: charset-normalizer<3,>=2 in c:\\anaconda\\lib\\site-packages (from requests->huggingface-hub>=0.15.1->sentence-transformers) (2.0.4)\n",
      "Requirement already satisfied: mpmath>=0.19 in c:\\anaconda\\lib\\site-packages (from sympy->torch>=1.11.0->sentence-transformers) (1.2.1)\n"
     ]
    }
   ],
   "source": [
    "!pip install sentence-transformers"
   ]
  },
  {
   "cell_type": "code",
   "execution_count": 17,
   "id": "6be25398",
   "metadata": {},
   "outputs": [],
   "source": [
    "from sentence_transformers import SentenceTransformer\n",
    "sbert_model=SentenceTransformer('bert-base-nli-mean-tokens')"
   ]
  },
  {
   "cell_type": "code",
   "execution_count": 19,
   "id": "a89e7052",
   "metadata": {},
   "outputs": [],
   "source": [
    "sentence_embeddings = sbert_model.encode(sentences)"
   ]
  },
  {
   "cell_type": "code",
   "execution_count": 20,
   "id": "59ca8a68",
   "metadata": {},
   "outputs": [
    {
     "name": "stdout",
     "output_type": "stream",
     "text": [
      "Sample BERT embedding vector - length 768\n"
     ]
    }
   ],
   "source": [
    "print(\"Sample BERT embedding vector - length\",len(sentence_embeddings[0]))"
   ]
  },
  {
   "cell_type": "code",
   "execution_count": 21,
   "id": "252a3f97",
   "metadata": {},
   "outputs": [
    {
     "name": "stdout",
     "output_type": "stream",
     "text": [
      "Sample BERT embedding vector - note includes negative values [ 2.07715467e-01 -5.08160610e-03  1.96157908e+00 -2.06673190e-01\n",
      " -2.54174769e-02  4.14883524e-01 -1.25817895e+00  8.29504192e-01\n",
      " -3.78569752e-01 -4.21866268e-01  2.80214250e-01  7.82959580e-01\n",
      "  8.91004920e-01  5.30923493e-02  1.27828643e-01  1.06608175e-01\n",
      "  4.87411588e-01 -2.70586073e-01  1.89428300e-01 -7.60948777e-01\n",
      " -5.01207486e-02  2.31529072e-01 -9.41673458e-01  1.30140975e-01\n",
      " -2.15186961e-02  4.30828571e-01 -2.72705585e-01  4.61000741e-01\n",
      "  1.17238307e+00 -7.30046025e-03 -2.90633112e-01 -1.34496897e-01\n",
      "  9.05883610e-01 -8.16391289e-01  2.21491188e-01 -8.89197350e-01\n",
      " -1.65462762e-01  2.54761308e-01 -4.34204638e-01  6.83824182e-01\n",
      " -5.26550889e-01  7.96457008e-02  6.72950506e-01  2.79282153e-01\n",
      " -6.30841777e-02  1.67101949e-01  1.04765725e+00  1.35828543e+00\n",
      "  5.20906091e-01 -1.01330423e+00  1.02780926e+00 -1.05658269e+00\n",
      " -2.57637441e-01  6.63372576e-01 -6.01734877e-01  1.44212627e+00\n",
      "  1.83125511e-01 -4.72121060e-01  2.63041198e-01  6.04892612e-01\n",
      "  4.10582215e-01  1.89665288e-01  6.46864593e-01 -3.43120918e-02\n",
      " -8.40932727e-01  3.25672716e-01 -6.61225498e-01 -3.05825412e-01\n",
      "  2.77073860e-01  3.35486323e-01  4.58912432e-01 -1.47579408e+00\n",
      " -3.98642838e-01  6.85172677e-01 -3.42735380e-01 -8.17244172e-01\n",
      "  6.08056009e-01  8.02347541e-01  6.24853313e-01  3.64633471e-01\n",
      "  4.09401543e-02 -3.52108777e-01  8.86489093e-01 -7.62924969e-01\n",
      " -1.44637257e-01  1.97790965e-01 -1.18464971e+00 -1.38679719e+00\n",
      " -6.11145377e-01 -8.83287072e-01 -2.80100759e-02  5.37861228e-01\n",
      "  2.05088072e-02  5.75031400e-01 -9.70261395e-01 -1.76370299e+00\n",
      " -8.21838558e-01  2.82610506e-01  9.50053334e-02  2.75890827e-01\n",
      " -7.36643791e-01  2.43829295e-01 -4.96759653e-01  4.34916317e-01\n",
      " -1.67801708e-01 -3.36494625e-01 -6.57307744e-01 -7.40771949e-01\n",
      "  5.79404652e-01 -4.37803209e-01 -2.47991681e-01  2.85549879e-01\n",
      "  3.17766555e-02 -3.38024348e-02 -7.57999182e-01  2.39948556e-01\n",
      " -7.64711916e-01  1.17831603e-01  1.18404970e-01 -8.03782821e-01\n",
      " -2.43019462e-01  6.67722046e-01 -3.81116867e-01 -3.57042998e-01\n",
      " -4.00189385e-02 -3.39898109e-01  8.74184430e-01  2.65891731e-01\n",
      " -1.32411706e+00 -7.09497750e-01  5.20350575e-01  5.30911565e-01\n",
      " -1.88261777e-01 -1.40784696e-01 -3.36717144e-02  2.96317726e-01\n",
      "  5.00968337e-01  1.68339759e-01 -7.41034687e-01 -4.01448071e-01\n",
      " -1.64320841e-01  3.17424446e-01  1.06840384e+00 -1.58012122e-01\n",
      " -1.24041781e-01 -5.65251887e-01  1.76674172e-01 -1.10535525e-01\n",
      " -8.55394542e-01  7.03094840e-01  1.07609618e+00  1.00908351e+00\n",
      " -3.42118621e-01 -3.24384212e-01 -1.57212511e-01  1.04458794e-01\n",
      " -1.03808498e+00 -3.85937095e-01  1.89439252e-01  1.87072784e-01\n",
      "  7.35664248e-01  2.03954369e-01 -1.84932858e-01 -7.61129260e-01\n",
      "  7.76731253e-01 -7.87042975e-01 -2.84415841e-01 -6.87080085e-01\n",
      "  3.03314477e-01  1.29476035e+00  2.59475827e-01  2.45195985e-01\n",
      "  7.17548490e-01 -1.18575908e-01  8.90894771e-01  3.84896934e-01\n",
      " -1.10294424e-01  7.87987858e-02  8.33886862e-03 -3.38175386e-01\n",
      "  1.44801259e-01 -6.54631019e-01  3.58192205e-01 -7.25037217e-01\n",
      " -7.92396247e-01  1.30923450e-01  2.83434957e-01 -4.45028394e-01\n",
      "  4.47353929e-01  1.48300302e+00 -4.32290494e-01 -8.94980133e-01\n",
      " -3.13988060e-01 -6.21662676e-01  1.99694887e-01 -9.32982147e-01\n",
      " -1.15360238e-01  8.21991146e-01  4.63578165e-01 -9.97265041e-01\n",
      " -2.55280018e-01 -3.84396672e-01  8.39362800e-01  2.30018616e-01\n",
      "  2.00831890e-03  8.22027683e-01 -6.30686402e-01  1.05692852e+00\n",
      " -2.66500503e-01  3.29964310e-02  4.13491398e-01  3.38982135e-01\n",
      "  4.84296024e-01  4.35900539e-01  8.94281030e-01  3.97882402e-01\n",
      "  3.77580941e-01  7.82263696e-01 -5.07955611e-01 -2.26693630e-01\n",
      " -4.96125706e-02  1.68344498e+00 -2.19552726e-01  2.87307680e-01\n",
      " -4.55968857e-01 -4.09393013e-03  2.07844257e-01  3.86416470e-03\n",
      " -6.71364442e-02 -6.21205032e-01 -3.31636727e-01 -1.49497002e-01\n",
      " -1.08551621e+00  8.07321191e-01  6.13736808e-01 -7.77988434e-01\n",
      " -6.43550694e-01  3.38148534e-01 -8.47243704e-03  5.85339889e-02\n",
      "  1.19193172e+00 -4.85119596e-02 -9.62735951e-01 -4.89284337e-01\n",
      " -2.06371978e-01  1.14199400e-01  8.93737674e-01  3.07058245e-02\n",
      "  1.17018655e-01  4.70579147e-01  6.49573863e-01 -7.78839231e-01\n",
      "  8.19856346e-01 -1.14640045e+00 -5.74746788e-01 -4.13770378e-01\n",
      " -1.30511463e-01  6.12118542e-01  4.19691086e-01 -7.37338781e-01\n",
      " -6.83041751e-01 -1.76814675e-01  2.67495453e-01 -5.25916159e-01\n",
      "  3.78632486e-01  3.95753056e-01 -1.01856804e+00 -4.02659714e-01\n",
      " -1.30450968e-02  7.94512153e-01  1.40101343e-01 -9.40969765e-01\n",
      " -8.72509181e-01  8.56004804e-02 -8.63087177e-01 -6.08015895e-01\n",
      "  8.84162903e-01  3.05490911e-01 -5.98412573e-01 -9.49566066e-01\n",
      " -4.12744045e-01 -2.80653626e-01  1.21328697e-01  1.04923606e+00\n",
      " -3.80156815e-01 -6.99931011e-02 -8.39204565e-02  2.73054272e-01\n",
      "  8.26490447e-02 -2.41322130e-01  8.95108581e-01  1.24356246e+00\n",
      "  2.68453181e-01 -5.93448162e-01  9.97774974e-02 -8.69429088e-04\n",
      "  1.12434076e-02 -4.96487290e-01 -2.49127060e-01  5.32177091e-01\n",
      "  4.09602165e-01 -8.02781105e-01  1.20439276e-01  9.19352531e-01\n",
      " -3.16501915e-01 -1.66909349e+00  4.04795468e-01 -4.24664281e-02\n",
      " -1.12789130e+00 -1.16799700e+00 -6.06596529e-01 -2.48030901e-01\n",
      " -1.27133638e-01  9.18309867e-01  7.10919499e-01 -3.70330632e-01\n",
      "  6.70016944e-01  1.31498075e+00 -9.18500245e-01 -9.13394630e-01\n",
      "  2.76090682e-01  7.40474582e-01  2.19756797e-01  4.12727177e-01\n",
      "  1.65007025e-01 -1.00506175e+00 -3.38576168e-01  7.61036217e-01\n",
      "  4.97473896e-01 -6.86150372e-01  4.88208532e-01  2.70392627e-01\n",
      " -3.60694408e-01  6.41888738e-01 -3.37855995e-01  7.05531299e-01\n",
      " -5.67382157e-01  4.97850657e-01  1.78304434e-01  3.97854805e-01\n",
      "  8.07288826e-01 -1.03480613e+00  4.39929634e-01 -5.91014028e-02\n",
      "  2.02461794e-01  2.07434505e-01 -5.07987380e-01  4.72420305e-01\n",
      " -4.36147302e-01  6.31343544e-01 -2.09280685e-01 -1.10826850e+00\n",
      "  1.06618702e+00 -1.25748336e-01 -4.18853611e-01 -6.41638339e-01\n",
      "  3.30661207e-01 -6.36027614e-03 -1.26537785e-01  3.41131836e-01\n",
      "  8.13624203e-01  1.14665914e+00  2.70792603e-01  4.76744890e-01\n",
      " -3.87392417e-02  2.29055434e-01  1.11859572e+00 -8.20544362e-01\n",
      "  5.68952203e-01  5.32321751e-01  8.46590817e-01  3.95899191e-02\n",
      " -2.43724033e-01  7.68667579e-01  7.10827649e-01  8.45398724e-01\n",
      " -7.80904472e-01  5.03408313e-01  2.54413098e-01 -9.76643205e-01\n",
      "  7.25339174e-01 -7.70824730e-01 -6.23537321e-03 -1.07709146e+00\n",
      " -1.15631509e+00  9.94475543e-01  1.28212959e-01  3.03935409e-01\n",
      "  8.42052281e-01 -5.18547297e-01 -9.01709437e-01  6.36570215e-01\n",
      " -5.01277745e-01 -3.64366859e-01 -4.77959156e-01 -1.31637907e+00\n",
      "  4.64614213e-01  3.43474030e-01 -6.82495594e-01 -3.76152486e-01\n",
      " -7.75182098e-02  7.22506523e-01  4.73291934e-01  3.66614103e-01\n",
      " -2.89362613e-02 -4.37212318e-01  4.83668029e-01  1.05869256e-01\n",
      " -5.71892023e-01 -1.03403938e+00 -3.09096515e-01  6.40343189e-01\n",
      "  7.57767409e-02 -3.85382950e-01 -2.33312413e-01  7.14049697e-01\n",
      "  5.98167241e-01 -5.74842334e-01 -1.65234357e-01  6.16356432e-01\n",
      " -6.27983689e-01 -8.94899964e-01 -1.51404902e-01  2.57513672e-01\n",
      "  2.20137715e-01 -1.07621527e+00 -1.18548763e+00  6.68843761e-02\n",
      " -8.71634662e-01 -9.41718936e-01 -7.40656018e-01  3.48055035e-01\n",
      " -9.45092797e-01 -1.11737943e+00  1.17536306e+00 -1.55070555e+00\n",
      "  2.85322908e-02  1.45747274e-01 -5.84937334e-01  8.34969819e-01\n",
      "  1.52416527e-01  2.01982573e-01 -1.93091575e-02 -6.72275364e-01\n",
      " -1.18984585e-03 -1.51783735e-01  6.06576324e-01  1.08879939e-01\n",
      " -6.79538071e-01  9.47230607e-02 -1.64150596e-01  2.57798672e-01\n",
      " -3.54091302e-02  1.22602975e+00  3.40378046e-01  5.43521047e-01\n",
      " -7.64748454e-02  9.56736743e-01 -2.15974405e-01 -1.55957848e-01\n",
      "  3.09807420e-01  2.97712147e-01 -4.95174706e-01 -4.83291149e-02\n",
      "  8.29577744e-01  2.09988073e-01 -3.64092857e-01  1.87425226e-01\n",
      "  5.28705955e-01 -5.30674994e-01  3.77208948e-01  8.93010125e-02\n",
      "  1.30614847e-01  1.90879241e-01 -2.41479725e-01 -1.35838389e+00\n",
      "  9.92822647e-02  2.11166382e-01 -2.53889471e-01  4.58916843e-01\n",
      "  8.82949531e-01  6.22667491e-01 -3.29337448e-01  1.93913691e-02\n",
      "  1.46986619e-01  2.91002899e-01 -7.36759901e-01  4.54039335e-01\n",
      "  6.90915287e-01 -7.47264102e-02 -6.02384686e-01 -1.05382740e-01\n",
      " -1.27007985e+00 -2.02147201e-01  7.14420751e-02 -8.16970877e-03\n",
      " -4.47406471e-01  2.35190943e-01  8.60533044e-02  5.19168265e-02\n",
      "  1.74995971e+00  7.70927787e-01  3.25384855e-01  5.50536346e-03\n",
      "  6.06055439e-01  3.57044786e-01 -9.91772830e-01 -2.72519350e-01\n",
      "  4.92111772e-01  1.47809789e-01 -1.28583169e+00  2.50125885e-01\n",
      "  1.16573691e+00 -3.92378628e-01 -5.31651855e-01 -3.96519452e-02\n",
      " -1.75967887e-01  1.08248547e-01 -5.02279162e-01 -6.35799825e-01\n",
      "  2.08553836e-01 -5.48299670e-01  2.04151034e-01  9.55096900e-01\n",
      " -8.64704624e-02  6.53822958e-01  6.40586734e-01 -9.07158554e-01\n",
      "  4.84129667e-01 -8.51888835e-01 -7.75856674e-01 -6.95564806e-01\n",
      " -5.70653200e-01  1.48675847e+00  3.19258392e-01 -4.51685011e-01\n",
      " -2.14388818e-01 -8.68087292e-01 -5.40249348e-01 -9.37904939e-02\n",
      "  7.52932727e-01  1.38526991e-01  1.59838462e+00 -9.06435668e-01\n",
      " -9.88119125e-01 -9.41705525e-01  7.60482699e-02  1.26658690e+00\n",
      " -5.33394754e-01 -2.20251650e-01  1.01132059e+00  7.51804486e-02\n",
      " -2.87585557e-01  3.17749441e-01 -1.50601864e-02 -5.59308350e-01\n",
      " -2.35535830e-01  4.40867186e-01 -9.93845090e-02 -1.19741595e+00\n",
      "  1.00037456e+00  2.65045345e-01  2.14352131e-01 -6.53444469e-01\n",
      " -5.41777313e-01  4.24671590e-01  2.75228202e-01  8.17800164e-02\n",
      " -7.03724086e-01  5.54192901e-01 -5.19947946e-01  3.94735038e-02\n",
      "  2.25253344e-01  7.71251321e-01 -3.16835105e-01  8.00019354e-02\n",
      "  1.47532225e-01  4.22596782e-01  3.86581987e-01 -5.02983272e-01\n",
      " -8.27698231e-01  2.94768989e-01  3.24718654e-01 -1.49883509e-01\n",
      " -4.77928296e-02 -6.51164949e-01  1.58491933e+00 -4.67511475e-01\n",
      "  1.52265038e-02 -4.32135016e-01  5.99587500e-01 -4.53015268e-01\n",
      " -9.58735645e-01 -1.32582676e+00 -5.41341901e-01 -3.46483529e-01\n",
      " -7.47600079e-01  8.51324677e-01 -5.27610421e-01 -1.62941873e-01\n",
      "  4.46765751e-01 -9.88277614e-01 -6.22865677e-01 -1.10057607e-01\n",
      " -1.49352878e-01  2.67825365e-01 -1.23995747e-02  4.88204174e-02\n",
      " -8.49426389e-01  7.01126397e-01 -1.09755850e+00 -6.48915052e-01\n",
      " -6.68264210e-01 -1.12716831e-01 -1.15211941e-01 -1.00542951e+00\n",
      "  1.68335631e-01  2.54893273e-01  3.71649452e-02 -8.30245376e-01\n",
      "  4.85852718e-01  5.09856820e-01 -9.24982369e-01 -9.00981426e-02\n",
      " -1.21690132e-01 -2.18431503e-01  2.34783694e-01  1.55295610e-01\n",
      "  5.31010747e-01 -3.95078838e-01  4.21383947e-01  5.34723163e-01\n",
      " -8.20238292e-01 -5.33232868e-01 -1.14016569e+00  8.30511749e-01\n",
      " -2.96794623e-01 -4.49301332e-01 -2.12710053e-01  3.07231396e-01\n",
      " -6.23171814e-02  8.10084224e-01 -2.77645767e-01  1.70876443e-01\n",
      "  1.37575135e-01 -1.14925551e+00  2.98511386e-02  8.05700421e-01\n",
      "  1.81140468e-01  7.22712934e-01 -2.21818656e-01  5.37400842e-01\n",
      " -7.92021155e-01  4.96362984e-01  6.60345107e-02 -1.75745398e-01\n",
      " -3.60461414e-01 -2.17185229e-01 -1.08731246e+00  9.15474445e-02\n",
      "  4.42243040e-01 -6.49197519e-01  6.89848483e-01  5.84230840e-01\n",
      " -2.83155680e-01 -5.21735549e-01 -8.94560456e-01  5.39364338e-01\n",
      "  2.18875371e-02  7.33364522e-01  8.53150249e-01 -5.10595798e-01\n",
      " -1.56235129e-01  4.66789812e-01 -4.50690806e-01 -6.83390349e-03\n",
      " -2.08263472e-01  1.09356952e+00  9.84277904e-01  4.46456343e-01\n",
      " -2.06672668e-01 -8.97193313e-01 -2.20388025e-01 -3.48208845e-01\n",
      " -8.32039654e-01  9.93740261e-01  4.39986408e-01 -4.67088044e-01\n",
      "  8.23838830e-01 -2.11126924e-01 -3.75559241e-01  1.54712334e-01\n",
      " -7.77672883e-03 -1.99937612e-01 -5.81535995e-01  9.01718140e-01\n",
      " -5.39767385e-01  1.77797616e-01  6.91128552e-01 -9.12358880e-01\n",
      " -8.87405574e-01  3.90886702e-02 -2.19936520e-01 -8.60510707e-01\n",
      " -2.36357320e-02 -1.03181362e+00  1.23823188e-01 -6.53663754e-01\n",
      " -3.80954325e-01  3.81066650e-01  4.85573590e-01  5.14191926e-01\n",
      "  2.20768169e-01  1.54374087e+00  3.46680619e-02 -4.71923411e-01\n",
      " -6.21632934e-01  1.06225026e+00  3.08466822e-01 -8.46337527e-02\n",
      " -9.84321713e-01  1.43916503e-01 -1.93218619e-01  4.44797188e-01\n",
      " -2.77007282e-01 -1.25600278e+00  1.09108472e+00 -3.89780462e-01\n",
      "  7.30199590e-02 -5.48561752e-01  3.46639335e-01  7.44380951e-01\n",
      " -8.28491986e-01 -1.65940493e-01  2.96199501e-01 -5.37835583e-02\n",
      "  3.53284478e-01 -5.07895231e-01 -5.68472505e-01 -3.79195154e-01\n",
      "  8.07162672e-02 -1.14856243e+00  5.58236718e-01  5.63546062e-01\n",
      "  1.03537655e+00  1.33580610e-01  9.05891240e-01  4.91753966e-01\n",
      " -9.23498049e-02 -2.50054598e-01 -4.51804072e-01 -1.55890679e+00\n",
      " -1.07442021e+00 -4.42959294e-02  7.78025329e-01 -7.25399077e-01\n",
      " -8.07776153e-01  5.14889359e-01  9.57412124e-02 -1.02292407e+00\n",
      "  4.25554812e-01  3.52882415e-01  1.48859531e-01 -1.36302039e-01\n",
      " -5.59109449e-02  7.58003831e-01  5.94488025e-01 -3.90933514e-01]\n"
     ]
    }
   ],
   "source": [
    "print(\"Sample BERT embedding vector - note includes negative values\",sentence_embeddings[0])"
   ]
  },
  {
   "cell_type": "code",
   "execution_count": 22,
   "id": "8f810269",
   "metadata": {},
   "outputs": [],
   "source": [
    "query = \"I had pizza and pasta \"\n",
    "query_vec = sbert_model.encode([query])[0]"
   ]
  },
  {
   "cell_type": "code",
   "execution_count": 32,
   "id": "d45458b4",
   "metadata": {},
   "outputs": [
    {
     "name": "stdout",
     "output_type": "stream",
     "text": [
      "Sentence = I ate dinner ; similarity = [[0.7062614]]\n",
      "Sentence = We had three-course meal ; similarity = [[0.6317924]]\n",
      "Sentence = He loves fish tacos ; similarity = [[0.60819566]]\n",
      "Sentence = In the end,we all felt like we ate too much ; similarity = [[0.40863013]]\n",
      "Sentence = We all agreed,it was a maginificient evening ; similarity = [[0.20377636]]\n"
     ]
    }
   ],
   "source": [
    "from sklearn.metrics.pairwise import cosine_similarity\n",
    "for sent in sentences:\n",
    "    sim = cosine_similarity([query_vec],[sbert_model.encode([sent])[0]])\n",
    "    print(\"Sentence =\",sent,\"; similarity =\",sim)"
   ]
  },
  {
   "cell_type": "code",
   "execution_count": 33,
   "id": "ad185f3d",
   "metadata": {},
   "outputs": [
    {
     "name": "stdout",
     "output_type": "stream",
     "text": [
      "Requirement already satisfied: gensim in c:\\anaconda\\lib\\site-packages (4.1.2)\n",
      "Requirement already satisfied: numpy>=1.17.0 in c:\\anaconda\\lib\\site-packages (from gensim) (1.24.4)\n",
      "Requirement already satisfied: smart-open>=1.8.1 in c:\\anaconda\\lib\\site-packages (from gensim) (5.2.1)\n",
      "Requirement already satisfied: scipy>=0.18.1 in c:\\anaconda\\lib\\site-packages (from gensim) (1.9.1)\n"
     ]
    }
   ],
   "source": [
    "!pip install gensim"
   ]
  },
  {
   "cell_type": "code",
   "execution_count": 39,
   "id": "66117c63",
   "metadata": {},
   "outputs": [],
   "source": [
    "import gensim\n",
    "from gensim.models.doc2vec import Doc2Vec,TaggedDocument\n",
    "from nltk.tokenize import word_tokenize\n",
    "from gensim.models.doc2vec import Doc2Vec"
   ]
  },
  {
   "cell_type": "code",
   "execution_count": 40,
   "id": "affbb782",
   "metadata": {},
   "outputs": [],
   "source": [
    "data=[\"Artificial Intelligence (AI) is an evolving technology that tries to simulate human intelligence using machines. AI encompasses various subfields, including machine learning (ML) and deep learning, which allow systems to learn and adapt in novel ways from training data.\"\n",
    "    \n",
    "]"
   ]
  },
  {
   "cell_type": "code",
   "execution_count": 42,
   "id": "1bfa289a",
   "metadata": {},
   "outputs": [
    {
     "name": "stderr",
     "output_type": "stream",
     "text": [
      "[nltk_data] Downloading package punkt to\n",
      "[nltk_data]     C:\\Users\\SHYNI\\AppData\\Roaming\\nltk_data...\n",
      "[nltk_data]   Package punkt is already up-to-date!\n"
     ]
    },
    {
     "data": {
      "text/plain": [
       "True"
      ]
     },
     "execution_count": 42,
     "metadata": {},
     "output_type": "execute_result"
    }
   ],
   "source": [
    "import nltk\n",
    "nltk.download(\"punkt\")"
   ]
  },
  {
   "cell_type": "code",
   "execution_count": 45,
   "id": "6cc7e7ed",
   "metadata": {},
   "outputs": [],
   "source": [
    "tagged_data = [TaggedDocument(words=word_tokenize(_d.lower()),tags = [str(i)]) for i,_d in enumerate(data)]"
   ]
  },
  {
   "cell_type": "code",
   "execution_count": 46,
   "id": "22a08a9b",
   "metadata": {},
   "outputs": [
    {
     "data": {
      "text/plain": [
       "[TaggedDocument(words=['artificial', 'intelligence', '(', 'ai', ')', 'is', 'an', 'evolving', 'technology', 'that', 'tries', 'to', 'simulate', 'human', 'intelligence', 'using', 'machines', '.', 'ai', 'encompasses', 'various', 'subfields', ',', 'including', 'machine', 'learning', '(', 'ml', ')', 'and', 'deep', 'learning', ',', 'which', 'allow', 'systems', 'to', 'learn', 'and', 'adapt', 'in', 'novel', 'ways', 'from', 'training', 'data', '.'], tags=['0'])]"
      ]
     },
     "execution_count": 46,
     "metadata": {},
     "output_type": "execute_result"
    }
   ],
   "source": [
    "tagged_data"
   ]
  },
  {
   "cell_type": "code",
   "execution_count": null,
   "id": "9e6d6abf",
   "metadata": {},
   "outputs": [],
   "source": []
  }
 ],
 "metadata": {
  "kernelspec": {
   "display_name": "Python 3 (ipykernel)",
   "language": "python",
   "name": "python3"
  },
  "language_info": {
   "codemirror_mode": {
    "name": "ipython",
    "version": 3
   },
   "file_extension": ".py",
   "mimetype": "text/x-python",
   "name": "python",
   "nbconvert_exporter": "python",
   "pygments_lexer": "ipython3",
   "version": "3.9.13"
  }
 },
 "nbformat": 4,
 "nbformat_minor": 5
}
